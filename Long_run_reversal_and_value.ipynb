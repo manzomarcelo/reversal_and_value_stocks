{
 "cells": [
  {
   "cell_type": "code",
   "execution_count": null,
   "metadata": {},
   "outputs": [],
   "source": [
    "import pickle\n",
    "import pandas as pd\n",
    "import numpy as np\n",
    "import matplotlib.pyplot as plt\n",
    "from datetime import date, timedelta\n",
    "from datetime import datetime\n",
    "from tqdm import tqdm\n",
    "from dateutil.relativedelta import relativedelta\n",
    "import statsmodels.api as sm\n",
    "import pandas as pd\n",
    "import numpy as np\n",
    "import matplotlib.pyplot as plt\n",
    "from datetime import date, timedelta\n",
    "from tqdm import tqdm"
   ]
  },
  {
   "cell_type": "code",
   "execution_count": 2,
   "metadata": {},
   "outputs": [],
   "source": [
    "df=pd.read_csv(\"returns.csv\")"
   ]
  },
  {
   "cell_type": "code",
   "execution_count": 3,
   "metadata": {},
   "outputs": [
    {
     "data": {
      "text/html": [
       "<div>\n",
       "<style scoped>\n",
       "    .dataframe tbody tr th:only-of-type {\n",
       "        vertical-align: middle;\n",
       "    }\n",
       "\n",
       "    .dataframe tbody tr th {\n",
       "        vertical-align: top;\n",
       "    }\n",
       "\n",
       "    .dataframe thead th {\n",
       "        text-align: right;\n",
       "    }\n",
       "</style>\n",
       "<table border=\"1\" class=\"dataframe\">\n",
       "  <thead>\n",
       "    <tr style=\"text-align: right;\">\n",
       "      <th></th>\n",
       "      <th>PERMNO</th>\n",
       "      <th>date</th>\n",
       "      <th>PRC</th>\n",
       "      <th>RET</th>\n",
       "      <th>SHROUT</th>\n",
       "    </tr>\n",
       "  </thead>\n",
       "  <tbody>\n",
       "    <tr>\n",
       "      <th>0</th>\n",
       "      <td>10000</td>\n",
       "      <td>19851231</td>\n",
       "      <td>NaN</td>\n",
       "      <td>NaN</td>\n",
       "      <td>NaN</td>\n",
       "    </tr>\n",
       "    <tr>\n",
       "      <th>1</th>\n",
       "      <td>10000</td>\n",
       "      <td>19860131</td>\n",
       "      <td>-4.3750</td>\n",
       "      <td>C</td>\n",
       "      <td>3680.0</td>\n",
       "    </tr>\n",
       "    <tr>\n",
       "      <th>2</th>\n",
       "      <td>10000</td>\n",
       "      <td>19860228</td>\n",
       "      <td>-3.2500</td>\n",
       "      <td>-0.257143</td>\n",
       "      <td>3680.0</td>\n",
       "    </tr>\n",
       "    <tr>\n",
       "      <th>3</th>\n",
       "      <td>10000</td>\n",
       "      <td>19860331</td>\n",
       "      <td>-4.4375</td>\n",
       "      <td>0.365385</td>\n",
       "      <td>3680.0</td>\n",
       "    </tr>\n",
       "    <tr>\n",
       "      <th>4</th>\n",
       "      <td>10000</td>\n",
       "      <td>19860430</td>\n",
       "      <td>-4.0000</td>\n",
       "      <td>-0.098592</td>\n",
       "      <td>3793.0</td>\n",
       "    </tr>\n",
       "  </tbody>\n",
       "</table>\n",
       "</div>"
      ],
      "text/plain": [
       "   PERMNO      date     PRC        RET  SHROUT\n",
       "0   10000  19851231     NaN        NaN     NaN\n",
       "1   10000  19860131 -4.3750          C  3680.0\n",
       "2   10000  19860228 -3.2500  -0.257143  3680.0\n",
       "3   10000  19860331 -4.4375   0.365385  3680.0\n",
       "4   10000  19860430 -4.0000  -0.098592  3793.0"
      ]
     },
     "execution_count": 3,
     "metadata": {},
     "output_type": "execute_result"
    }
   ],
   "source": [
    "df.head()"
   ]
  },
  {
   "cell_type": "code",
   "execution_count": 4,
   "metadata": {},
   "outputs": [],
   "source": [
    "df['PRC']=abs(df['PRC'])"
   ]
  },
  {
   "cell_type": "code",
   "execution_count": 5,
   "metadata": {},
   "outputs": [],
   "source": [
    "df.dropna(inplace=True)"
   ]
  },
  {
   "cell_type": "code",
   "execution_count": 6,
   "metadata": {},
   "outputs": [],
   "source": [
    "df = df[df.RET != 'C']"
   ]
  },
  {
   "cell_type": "code",
   "execution_count": 7,
   "metadata": {},
   "outputs": [
    {
     "data": {
      "text/plain": [
       "32442"
      ]
     },
     "execution_count": 7,
     "metadata": {},
     "output_type": "execute_result"
    }
   ],
   "source": [
    "df['PERMNO'].nunique()"
   ]
  },
  {
   "cell_type": "code",
   "execution_count": 8,
   "metadata": {},
   "outputs": [],
   "source": [
    "df['date'] = df['date'].astype(str)\n",
    "df['date'] = pd.to_datetime(df['date'],format='%Y-%m-%d')"
   ]
  },
  {
   "cell_type": "code",
   "execution_count": 9,
   "metadata": {},
   "outputs": [],
   "source": [
    "df.set_index(df.date, inplace=True)\n",
    "df.drop('date', axis=1, inplace=True)"
   ]
  },
  {
   "cell_type": "code",
   "execution_count": 10,
   "metadata": {},
   "outputs": [],
   "source": [
    "df=df.sort_index()"
   ]
  },
  {
   "cell_type": "code",
   "execution_count": 11,
   "metadata": {},
   "outputs": [
    {
     "name": "stderr",
     "output_type": "stream",
     "text": [
      "/Users/marcelo/anaconda3/lib/python3.6/site-packages/ipykernel_launcher.py:1: DeprecationWarning: The default dtype for empty Series will be 'object' instead of 'float64' in a future version. Specify a dtype explicitly to silence this warning.\n",
      "  \"\"\"Entry point for launching an IPython kernel.\n"
     ]
    }
   ],
   "source": [
    "df['PU']= pd.Series()"
   ]
  },
  {
   "cell_type": "code",
   "execution_count": 12,
   "metadata": {},
   "outputs": [
    {
     "data": {
      "text/plain": [
       "PERMNO      int64\n",
       "PRC       float64\n",
       "RET        object\n",
       "SHROUT    float64\n",
       "PU        float64\n",
       "dtype: object"
      ]
     },
     "execution_count": 12,
     "metadata": {},
     "output_type": "execute_result"
    }
   ],
   "source": [
    "df.dtypes"
   ]
  },
  {
   "cell_type": "code",
   "execution_count": 13,
   "metadata": {},
   "outputs": [],
   "source": [
    "df['RET'] = pd.to_numeric(df.RET, errors='coerce')"
   ]
  },
  {
   "cell_type": "code",
   "execution_count": 14,
   "metadata": {},
   "outputs": [],
   "source": [
    "def trading_signal(full_permno_df):\n",
    "    \n",
    "    permno_id = full_permno_df.PERMNO.unique()[-1]\n",
    "    \n",
    "    if len(full_permno_df) <= 60:\n",
    "        return []\n",
    "    \n",
    "    results = []\n",
    "    for jump in range (60,len(full_permno_df)):\n",
    "        permno_df=full_permno_df[jump-60:jump]\n",
    "        list_final=permno_df.RET.sort_values()\n",
    "        returns=[]\n",
    "       \n",
    "        for i in range(len(list_final)):\n",
    "            returns.append(list_final[i])\n",
    "        cum_prod=np.cumprod(1+np.array(returns))\n",
    "        cum_prod=cum_prod[-1]**(1/60)-1\n",
    "        results.append((permno_df.index[-1], permno_id, cum_prod))\n",
    "        #results.append((permno_df.index[-1], permno_id, np.mean(returns)))\n",
    "    return results"
   ]
  },
  {
   "cell_type": "code",
   "execution_count": 15,
   "metadata": {},
   "outputs": [],
   "source": [
    "test_df=df.loc[df['PERMNO']==10001][60:120]\n",
    "test=test_df['RET'].values+1"
   ]
  },
  {
   "cell_type": "code",
   "execution_count": 16,
   "metadata": {},
   "outputs": [
    {
     "data": {
      "text/plain": [
       "0.014622840295411166"
      ]
     },
     "execution_count": 16,
     "metadata": {},
     "output_type": "execute_result"
    }
   ],
   "source": [
    "np.cumprod(test)[-1]**(1/60)-1"
   ]
  },
  {
   "cell_type": "code",
   "execution_count": 17,
   "metadata": {},
   "outputs": [
    {
     "data": {
      "text/plain": [
       "array([1.012987  , 1.00129916, 1.04082444, 1.04082444, 1.12250938,\n",
       "       1.08242008, 1.22941489, 1.24545015, 1.40790044, 1.59742496,\n",
       "       1.58659442, 1.50452941, 1.20362353, 1.3021016 , 1.31595335,\n",
       "       1.32980508, 1.31955494, 1.40378213, 1.45993342, 1.70222689,\n",
       "       1.65967122, 1.6313008 , 1.60661922, 1.60661922, 1.63530862,\n",
       "       1.65338368, 1.76940988, 1.75490603, 1.93474704, 1.9200894 ,\n",
       "       1.86146139, 1.98458217, 2.04382393, 2.01420279, 2.19784975,\n",
       "       2.09319034, 2.09319034, 2.08421892, 1.78215724, 1.90298216,\n",
       "       2.10717595, 2.25987035, 2.19879283, 2.28307916, 2.1596696 ,\n",
       "       2.06711264, 1.99800286, 1.93556527, 1.88483411, 1.89685369,\n",
       "       1.89685369, 1.99169638, 2.11182953, 2.11182953, 2.04783476,\n",
       "       2.13742753, 2.07265706, 2.26696866, 2.45480288, 2.38934066])"
      ]
     },
     "execution_count": 17,
     "metadata": {},
     "output_type": "execute_result"
    }
   ],
   "source": [
    "np.cumprod(test)"
   ]
  },
  {
   "cell_type": "code",
   "execution_count": 18,
   "metadata": {},
   "outputs": [
    {
     "data": {
      "text/plain": [
       "1.839820175239809e+18"
      ]
     },
     "execution_count": 18,
     "metadata": {},
     "output_type": "execute_result"
    }
   ],
   "source": [
    "cum_prod=np.cumprod(1+np.array(test))-1\n",
    "cum_prod[-1]"
   ]
  },
  {
   "cell_type": "code",
   "execution_count": 19,
   "metadata": {},
   "outputs": [],
   "source": [
    "grps = df.groupby('PERMNO')"
   ]
  },
  {
   "cell_type": "markdown",
   "metadata": {},
   "source": [
    "# Comment out lines below to generate pickle"
   ]
  },
  {
   "cell_type": "code",
   "execution_count": 20,
   "metadata": {},
   "outputs": [],
   "source": [
    "# grps = [x[1] for x in grps]"
   ]
  },
  {
   "cell_type": "code",
   "execution_count": 21,
   "metadata": {},
   "outputs": [],
   "source": [
    "# import multiprocessing as mp\n",
    "\n",
    "# with mp.Pool(mp.cpu_count()-1) as pool:\n",
    "#     pool_result = pool.map(trading_signal, grps)"
   ]
  },
  {
   "cell_type": "code",
   "execution_count": 22,
   "metadata": {},
   "outputs": [],
   "source": [
    "# import pickle\n",
    "\n",
    "# with open('pool_results.pickle', 'wb') as f:\n",
    "#     pickle.dump(pool_result, f)"
   ]
  },
  {
   "cell_type": "code",
   "execution_count": 23,
   "metadata": {},
   "outputs": [],
   "source": [
    "with open('pool_results.pickle', 'rb') as f:\n",
    "    mynewlist = pickle.load(f)"
   ]
  },
  {
   "cell_type": "code",
   "execution_count": 24,
   "metadata": {},
   "outputs": [],
   "source": [
    "for i in range(len(mynewlist)):\n",
    "    for j in range(len(mynewlist[i])):\n",
    "        mynewlist[i][j]=(mynewlist[i][j][0].strftime('%Y-%m-%d'), mynewlist[i][j][1], mynewlist[i][j][2])\n",
    "    "
   ]
  },
  {
   "cell_type": "code",
   "execution_count": 25,
   "metadata": {},
   "outputs": [],
   "source": [
    "new_data = [y for x in mynewlist for y in x if len(x) > 0]"
   ]
  },
  {
   "cell_type": "code",
   "execution_count": 26,
   "metadata": {},
   "outputs": [],
   "source": [
    "new_df = pd.DataFrame(new_data, columns=['time', 'permno', 'Avg_Return'])"
   ]
  },
  {
   "cell_type": "code",
   "execution_count": 27,
   "metadata": {},
   "outputs": [
    {
     "data": {
      "text/plain": [
       "2431828"
      ]
     },
     "execution_count": 27,
     "metadata": {},
     "output_type": "execute_result"
    }
   ],
   "source": [
    "len(new_df)"
   ]
  },
  {
   "cell_type": "code",
   "execution_count": 28,
   "metadata": {},
   "outputs": [
    {
     "data": {
      "text/plain": [
       "790749"
      ]
     },
     "execution_count": 28,
     "metadata": {},
     "output_type": "execute_result"
    }
   ],
   "source": [
    "len(new_df.loc[new_df.Avg_Return < 0])"
   ]
  },
  {
   "cell_type": "code",
   "execution_count": 29,
   "metadata": {},
   "outputs": [],
   "source": [
    "df['time'] = pd.to_datetime(df.index)\n",
    "new_df['time'] = pd.to_datetime(new_df['time'])"
   ]
  },
  {
   "cell_type": "code",
   "execution_count": 30,
   "metadata": {},
   "outputs": [
    {
     "data": {
      "text/plain": [
       "Index(['PERMNO', 'PRC', 'RET', 'SHROUT', 'PU', 'time'], dtype='object')"
      ]
     },
     "execution_count": 30,
     "metadata": {},
     "output_type": "execute_result"
    }
   ],
   "source": [
    "df.columns"
   ]
  },
  {
   "cell_type": "code",
   "execution_count": 31,
   "metadata": {},
   "outputs": [],
   "source": [
    "final_df = df.merge(new_df, left_on=['time', 'PERMNO'], right_on=['time', 'permno'], how='left')"
   ]
  },
  {
   "cell_type": "code",
   "execution_count": 32,
   "metadata": {},
   "outputs": [
    {
     "data": {
      "text/plain": [
       "0.3914968684394244"
      ]
     },
     "execution_count": 32,
     "metadata": {},
     "output_type": "execute_result"
    }
   ],
   "source": [
    "np.mean(np.isnan(final_df.Avg_Return))"
   ]
  },
  {
   "cell_type": "code",
   "execution_count": 33,
   "metadata": {},
   "outputs": [],
   "source": [
    "final_df.drop(['PU','permno'],axis=1,inplace=True)"
   ]
  },
  {
   "cell_type": "code",
   "execution_count": 34,
   "metadata": {
    "scrolled": true
   },
   "outputs": [
    {
     "data": {
      "text/html": [
       "<div>\n",
       "<style scoped>\n",
       "    .dataframe tbody tr th:only-of-type {\n",
       "        vertical-align: middle;\n",
       "    }\n",
       "\n",
       "    .dataframe tbody tr th {\n",
       "        vertical-align: top;\n",
       "    }\n",
       "\n",
       "    .dataframe thead th {\n",
       "        text-align: right;\n",
       "    }\n",
       "</style>\n",
       "<table border=\"1\" class=\"dataframe\">\n",
       "  <thead>\n",
       "    <tr style=\"text-align: right;\">\n",
       "      <th></th>\n",
       "      <th>PERMNO</th>\n",
       "      <th>PRC</th>\n",
       "      <th>RET</th>\n",
       "      <th>SHROUT</th>\n",
       "      <th>time</th>\n",
       "      <th>Avg_Return</th>\n",
       "    </tr>\n",
       "  </thead>\n",
       "  <tbody>\n",
       "    <tr>\n",
       "      <th>92535</th>\n",
       "      <td>18390</td>\n",
       "      <td>7.375</td>\n",
       "      <td>-0.132353</td>\n",
       "      <td>649.0</td>\n",
       "      <td>1964-12-31</td>\n",
       "      <td>-0.007398</td>\n",
       "    </tr>\n",
       "    <tr>\n",
       "      <th>92537</th>\n",
       "      <td>16512</td>\n",
       "      <td>29.250</td>\n",
       "      <td>0.005957</td>\n",
       "      <td>307.0</td>\n",
       "      <td>1964-12-31</td>\n",
       "      <td>0.004004</td>\n",
       "    </tr>\n",
       "    <tr>\n",
       "      <th>92538</th>\n",
       "      <td>23827</td>\n",
       "      <td>38.625</td>\n",
       "      <td>0.020197</td>\n",
       "      <td>7334.0</td>\n",
       "      <td>1964-12-31</td>\n",
       "      <td>0.012642</td>\n",
       "    </tr>\n",
       "    <tr>\n",
       "      <th>92539</th>\n",
       "      <td>26606</td>\n",
       "      <td>24.750</td>\n",
       "      <td>-0.019802</td>\n",
       "      <td>2533.0</td>\n",
       "      <td>1964-12-31</td>\n",
       "      <td>0.009751</td>\n",
       "    </tr>\n",
       "    <tr>\n",
       "      <th>92541</th>\n",
       "      <td>25048</td>\n",
       "      <td>37.875</td>\n",
       "      <td>0.016779</td>\n",
       "      <td>1312.0</td>\n",
       "      <td>1964-12-31</td>\n",
       "      <td>0.006575</td>\n",
       "    </tr>\n",
       "  </tbody>\n",
       "</table>\n",
       "</div>"
      ],
      "text/plain": [
       "       PERMNO     PRC       RET  SHROUT       time  Avg_Return\n",
       "92535   18390   7.375 -0.132353   649.0 1964-12-31   -0.007398\n",
       "92537   16512  29.250  0.005957   307.0 1964-12-31    0.004004\n",
       "92538   23827  38.625  0.020197  7334.0 1964-12-31    0.012642\n",
       "92539   26606  24.750 -0.019802  2533.0 1964-12-31    0.009751\n",
       "92541   25048  37.875  0.016779  1312.0 1964-12-31    0.006575"
      ]
     },
     "execution_count": 34,
     "metadata": {},
     "output_type": "execute_result"
    }
   ],
   "source": [
    "final_df=final_df.dropna()\n",
    "final_df.head()"
   ]
  },
  {
   "cell_type": "code",
   "execution_count": 35,
   "metadata": {},
   "outputs": [],
   "source": [
    "final_df=final_df.sort_values(['time', 'Avg_Return'], ascending=[True, True])"
   ]
  },
  {
   "cell_type": "code",
   "execution_count": 36,
   "metadata": {},
   "outputs": [],
   "source": [
    "final_df['RET']=round(final_df['RET'],4)\n",
    "final_df['Avg_Return']=round(final_df['Avg_Return'],4)\n"
   ]
  },
  {
   "cell_type": "code",
   "execution_count": 37,
   "metadata": {},
   "outputs": [],
   "source": [
    "new_array=np.array(final_df['time'].unique())"
   ]
  },
  {
   "cell_type": "code",
   "execution_count": 38,
   "metadata": {},
   "outputs": [
    {
     "data": {
      "text/plain": [
       "array([-0.0236 , -0.00544, -0.0011 ,  0.0018 ,  0.0046 ,  0.0066 ,\n",
       "        0.0086 ,  0.0106 ,  0.01288,  0.0153 ,  0.0329 ])"
      ]
     },
     "execution_count": 38,
     "metadata": {},
     "output_type": "execute_result"
    }
   ],
   "source": [
    "df_temp=final_df[final_df['time']==new_array[0]]\n",
    "x=pd.qcut(df_temp['Avg_Return'],10,retbins=True)\n",
    "array_bins=np.array(list(x[1]))\n",
    "array_bins"
   ]
  },
  {
   "cell_type": "code",
   "execution_count": 39,
   "metadata": {},
   "outputs": [],
   "source": [
    "list_portfolios=['P1','P2','P3','P4','P5','P6','P7','P8','P9','P10']\n",
    "d={}\n",
    "for name in list_portfolios:\n",
    "    d[name] = pd.DataFrame()"
   ]
  },
  {
   "cell_type": "code",
   "execution_count": 40,
   "metadata": {},
   "outputs": [],
   "source": [
    "j=0\n",
    "for name in d.keys():\n",
    "        d[name]=df_temp[(df_temp.Avg_Return > array_bins[j]) & (df_temp.Avg_Return <= array_bins[j+1])]\n",
    "        j+=1"
   ]
  },
  {
   "cell_type": "code",
   "execution_count": 41,
   "metadata": {},
   "outputs": [],
   "source": [
    "for ele in list_portfolios:\n",
    "    d[ele]=pd.DataFrame(d[ele])"
   ]
  },
  {
   "cell_type": "code",
   "execution_count": 42,
   "metadata": {},
   "outputs": [
    {
     "name": "stderr",
     "output_type": "stream",
     "text": [
      "100%|██████████| 646/646 [01:05<00:00,  5.22it/s]\n"
     ]
    }
   ],
   "source": [
    "for i in tqdm(range(1,len(new_array)-1)):\n",
    "    df_temp=final_df[final_df['time']==new_array[i]]\n",
    "    x=pd.qcut(df_temp['Avg_Return'],10,retbins=True)\n",
    "    array_bins=np.array(list(x[1]))\n",
    "    portfolio={}\n",
    "    for name in list_portfolios:\n",
    "        portfolio[name] = pd.DataFrame()\n",
    "        j=0\n",
    "    for name in portfolio.keys():\n",
    "        portfolio[name]=df_temp[(df_temp.Avg_Return > array_bins[j]) & (df_temp.Avg_Return <= array_bins[j+1])]\n",
    "        d[name]=pd.concat([d[name],portfolio[name]])\n",
    "        j+=1\n",
    "        "
   ]
  },
  {
   "cell_type": "code",
   "execution_count": 43,
   "metadata": {},
   "outputs": [],
   "source": [
    "def portfolio_return(name):\n",
    "    list_returns=[]\n",
    "    for name in list_portfolios:\n",
    "        list_returns.append(np.mean(d[name].Avg_Return))\n",
    "    return list_returns"
   ]
  },
  {
   "cell_type": "code",
   "execution_count": 44,
   "metadata": {},
   "outputs": [],
   "source": [
    "portfolio_returns=portfolio_return(list_portfolios)"
   ]
  },
  {
   "cell_type": "code",
   "execution_count": 45,
   "metadata": {},
   "outputs": [
    {
     "data": {
      "text/plain": [
       "[-0.02964936658911898,\n",
       " -0.01080884058685401,\n",
       " -0.0035160297919487283,\n",
       " 0.0011047808715912019,\n",
       " 0.004537550301603993,\n",
       " 0.007472198689209516,\n",
       " 0.010328523557791637,\n",
       " 0.013493313677832852,\n",
       " 0.017810585851554542,\n",
       " 0.028228891642361576]"
      ]
     },
     "execution_count": 45,
     "metadata": {},
     "output_type": "execute_result"
    }
   ],
   "source": [
    "portfolio_returns"
   ]
  },
  {
   "cell_type": "code",
   "execution_count": 46,
   "metadata": {},
   "outputs": [],
   "source": [
    "def portfolio_std(name):\n",
    "    list_std=[]\n",
    "    for name in list_portfolios:\n",
    "        list_std.append(np.std(d[name].Avg_Return))\n",
    "    return list_std"
   ]
  },
  {
   "cell_type": "code",
   "execution_count": 47,
   "metadata": {},
   "outputs": [
    {
     "data": {
      "text/plain": [
       "[0.016945555202307984,\n",
       " 0.008276913917949184,\n",
       " 0.006661500164574347,\n",
       " 0.005718301039786126,\n",
       " 0.00519201212146932,\n",
       " 0.00507877372126346,\n",
       " 0.005225200389008275,\n",
       " 0.0056121099408109314,\n",
       " 0.0062213134990080216,\n",
       " 0.01018580805595413]"
      ]
     },
     "execution_count": 47,
     "metadata": {},
     "output_type": "execute_result"
    }
   ],
   "source": [
    "portfolio_stds=portfolio_std(list_portfolios)\n",
    "portfolio_stds"
   ]
  },
  {
   "cell_type": "code",
   "execution_count": 48,
   "metadata": {},
   "outputs": [],
   "source": [
    "market_df=pd.read_csv(\"rm_rf.CSV\",index_col=0)"
   ]
  },
  {
   "cell_type": "code",
   "execution_count": 49,
   "metadata": {},
   "outputs": [
    {
     "data": {
      "text/html": [
       "<div>\n",
       "<style scoped>\n",
       "    .dataframe tbody tr th:only-of-type {\n",
       "        vertical-align: middle;\n",
       "    }\n",
       "\n",
       "    .dataframe tbody tr th {\n",
       "        vertical-align: top;\n",
       "    }\n",
       "\n",
       "    .dataframe thead th {\n",
       "        text-align: right;\n",
       "    }\n",
       "</style>\n",
       "<table border=\"1\" class=\"dataframe\">\n",
       "  <thead>\n",
       "    <tr style=\"text-align: right;\">\n",
       "      <th></th>\n",
       "      <th>rm_rf</th>\n",
       "      <th>rf</th>\n",
       "    </tr>\n",
       "  </thead>\n",
       "  <tbody>\n",
       "    <tr>\n",
       "      <th>201804</th>\n",
       "      <td>0.0029</td>\n",
       "      <td>0.0014</td>\n",
       "    </tr>\n",
       "    <tr>\n",
       "      <th>201805</th>\n",
       "      <td>0.0265</td>\n",
       "      <td>0.0014</td>\n",
       "    </tr>\n",
       "    <tr>\n",
       "      <th>201806</th>\n",
       "      <td>0.0048</td>\n",
       "      <td>0.0014</td>\n",
       "    </tr>\n",
       "    <tr>\n",
       "      <th>201807</th>\n",
       "      <td>0.0319</td>\n",
       "      <td>0.0016</td>\n",
       "    </tr>\n",
       "    <tr>\n",
       "      <th>201808</th>\n",
       "      <td>0.0344</td>\n",
       "      <td>0.0016</td>\n",
       "    </tr>\n",
       "  </tbody>\n",
       "</table>\n",
       "</div>"
      ],
      "text/plain": [
       "         rm_rf      rf\n",
       "201804  0.0029  0.0014\n",
       "201805  0.0265  0.0014\n",
       "201806  0.0048  0.0014\n",
       "201807  0.0319  0.0016\n",
       "201808  0.0344  0.0016"
      ]
     },
     "execution_count": 49,
     "metadata": {},
     "output_type": "execute_result"
    }
   ],
   "source": [
    "market_df.tail()"
   ]
  },
  {
   "cell_type": "code",
   "execution_count": 50,
   "metadata": {},
   "outputs": [
    {
     "data": {
      "text/html": [
       "<div>\n",
       "<style scoped>\n",
       "    .dataframe tbody tr th:only-of-type {\n",
       "        vertical-align: middle;\n",
       "    }\n",
       "\n",
       "    .dataframe tbody tr th {\n",
       "        vertical-align: top;\n",
       "    }\n",
       "\n",
       "    .dataframe thead th {\n",
       "        text-align: right;\n",
       "    }\n",
       "</style>\n",
       "<table border=\"1\" class=\"dataframe\">\n",
       "  <thead>\n",
       "    <tr style=\"text-align: right;\">\n",
       "      <th></th>\n",
       "      <th>PERMNO</th>\n",
       "      <th>PRC</th>\n",
       "      <th>RET</th>\n",
       "      <th>SHROUT</th>\n",
       "      <th>time</th>\n",
       "      <th>Avg_Return</th>\n",
       "    </tr>\n",
       "  </thead>\n",
       "  <tbody>\n",
       "    <tr>\n",
       "      <th>3981318</th>\n",
       "      <td>81116</td>\n",
       "      <td>9.5100</td>\n",
       "      <td>-0.0722</td>\n",
       "      <td>47793.0</td>\n",
       "      <td>2018-10-31</td>\n",
       "      <td>-0.0185</td>\n",
       "    </tr>\n",
       "    <tr>\n",
       "      <th>3976046</th>\n",
       "      <td>92536</td>\n",
       "      <td>0.7589</td>\n",
       "      <td>-0.0596</td>\n",
       "      <td>225805.0</td>\n",
       "      <td>2018-10-31</td>\n",
       "      <td>-0.0185</td>\n",
       "    </tr>\n",
       "    <tr>\n",
       "      <th>3975678</th>\n",
       "      <td>10180</td>\n",
       "      <td>6.6700</td>\n",
       "      <td>-0.4861</td>\n",
       "      <td>125492.0</td>\n",
       "      <td>2018-10-31</td>\n",
       "      <td>-0.0185</td>\n",
       "    </tr>\n",
       "    <tr>\n",
       "      <th>3978569</th>\n",
       "      <td>91319</td>\n",
       "      <td>13.5900</td>\n",
       "      <td>-0.1872</td>\n",
       "      <td>23800.0</td>\n",
       "      <td>2018-10-31</td>\n",
       "      <td>-0.0184</td>\n",
       "    </tr>\n",
       "    <tr>\n",
       "      <th>3980046</th>\n",
       "      <td>75033</td>\n",
       "      <td>5.1000</td>\n",
       "      <td>-0.0192</td>\n",
       "      <td>21938.0</td>\n",
       "      <td>2018-10-31</td>\n",
       "      <td>-0.0184</td>\n",
       "    </tr>\n",
       "  </tbody>\n",
       "</table>\n",
       "</div>"
      ],
      "text/plain": [
       "         PERMNO      PRC     RET    SHROUT       time  Avg_Return\n",
       "3981318   81116   9.5100 -0.0722   47793.0 2018-10-31     -0.0185\n",
       "3976046   92536   0.7589 -0.0596  225805.0 2018-10-31     -0.0185\n",
       "3975678   10180   6.6700 -0.4861  125492.0 2018-10-31     -0.0185\n",
       "3978569   91319  13.5900 -0.1872   23800.0 2018-10-31     -0.0184\n",
       "3980046   75033   5.1000 -0.0192   21938.0 2018-10-31     -0.0184"
      ]
     },
     "execution_count": 50,
     "metadata": {},
     "output_type": "execute_result"
    }
   ],
   "source": [
    "d['P1'].tail()"
   ]
  },
  {
   "cell_type": "code",
   "execution_count": 51,
   "metadata": {},
   "outputs": [],
   "source": [
    "for ele in list_portfolios:\n",
    "    d[ele]=d[ele][(d[ele]['time'] < '2018-9')]"
   ]
  },
  {
   "cell_type": "code",
   "execution_count": 52,
   "metadata": {},
   "outputs": [
    {
     "data": {
      "text/plain": [
       "645"
      ]
     },
     "execution_count": 52,
     "metadata": {},
     "output_type": "execute_result"
    }
   ],
   "source": [
    "len(d['P1'].time.unique())"
   ]
  },
  {
   "cell_type": "code",
   "execution_count": 53,
   "metadata": {},
   "outputs": [
    {
     "data": {
      "text/plain": [
       "1106"
      ]
     },
     "execution_count": 53,
     "metadata": {},
     "output_type": "execute_result"
    }
   ],
   "source": [
    "len(market_df)"
   ]
  },
  {
   "cell_type": "code",
   "execution_count": 54,
   "metadata": {},
   "outputs": [],
   "source": [
    "market_df=market_df.loc['196412':'201808']"
   ]
  },
  {
   "cell_type": "code",
   "execution_count": 55,
   "metadata": {},
   "outputs": [],
   "source": [
    "def capm(name):\n",
    "    d_portfolio=d[name].groupby('time').mean()\n",
    "    d_portfolio['rm_rf']=market_df['rm_rf'].values\n",
    "    d_portfolio['rf']=market_df['rf'].values\n",
    "    d_portfolio['RET']=d_portfolio['RET']-d_portfolio['rf']\n",
    "    Y=d_portfolio['RET']\n",
    "    X=d_portfolio['rm_rf']\n",
    "    X_standard = sm.add_constant(X)\n",
    "    model = sm.OLS(Y,X_standard)\n",
    "    results = model.fit()\n",
    "    print(results.summary())\n",
    "    return results.params"
   ]
  },
  {
   "cell_type": "code",
   "execution_count": 56,
   "metadata": {
    "scrolled": true
   },
   "outputs": [
    {
     "name": "stdout",
     "output_type": "stream",
     "text": [
      "                            OLS Regression Results                            \n",
      "==============================================================================\n",
      "Dep. Variable:                    RET   R-squared:                       0.419\n",
      "Model:                            OLS   Adj. R-squared:                  0.419\n",
      "Method:                 Least Squares   F-statistic:                     464.6\n",
      "Date:                Tue, 05 May 2020   Prob (F-statistic):           5.73e-78\n",
      "Time:                        16:07:56   Log-Likelihood:                 842.37\n",
      "No. Observations:                 645   AIC:                            -1681.\n",
      "Df Residuals:                     643   BIC:                            -1672.\n",
      "Df Model:                           1                                         \n",
      "Covariance Type:            nonrobust                                         \n",
      "==============================================================================\n",
      "                 coef    std err          t      P>|t|      [0.025      0.975]\n",
      "------------------------------------------------------------------------------\n",
      "const         -0.0249      0.003     -9.573      0.000      -0.030      -0.020\n",
      "rm_rf          1.2609      0.058     21.554      0.000       1.146       1.376\n",
      "==============================================================================\n",
      "Omnibus:                      284.091   Durbin-Watson:                   1.899\n",
      "Prob(Omnibus):                  0.000   Jarque-Bera (JB):             2761.745\n",
      "Skew:                           1.700   Prob(JB):                         0.00\n",
      "Kurtosis:                      12.550   Cond. No.                         22.6\n",
      "==============================================================================\n",
      "\n",
      "Warnings:\n",
      "[1] Standard Errors assume that the covariance matrix of the errors is correctly specified.\n",
      "                            OLS Regression Results                            \n",
      "==============================================================================\n",
      "Dep. Variable:                    RET   R-squared:                       0.568\n",
      "Model:                            OLS   Adj. R-squared:                  0.567\n",
      "Method:                 Least Squares   F-statistic:                     844.8\n",
      "Date:                Tue, 05 May 2020   Prob (F-statistic):          3.07e-119\n",
      "Time:                        16:07:56   Log-Likelihood:                 1090.3\n",
      "No. Observations:                 645   AIC:                            -2177.\n",
      "Df Residuals:                     643   BIC:                            -2168.\n",
      "Df Model:                           1                                         \n",
      "Covariance Type:            nonrobust                                         \n",
      "==============================================================================\n",
      "                 coef    std err          t      P>|t|      [0.025      0.975]\n",
      "------------------------------------------------------------------------------\n",
      "const         -0.0066      0.002     -3.715      0.000      -0.010      -0.003\n",
      "rm_rf          1.1577      0.040     29.065      0.000       1.079       1.236\n",
      "==============================================================================\n",
      "Omnibus:                      280.437   Durbin-Watson:                   1.812\n",
      "Prob(Omnibus):                  0.000   Jarque-Bera (JB):             2674.309\n",
      "Skew:                           1.679   Prob(JB):                         0.00\n",
      "Kurtosis:                      12.393   Cond. No.                         22.6\n",
      "==============================================================================\n",
      "\n",
      "Warnings:\n",
      "[1] Standard Errors assume that the covariance matrix of the errors is correctly specified.\n",
      "                            OLS Regression Results                            \n",
      "==============================================================================\n",
      "Dep. Variable:                    RET   R-squared:                       0.658\n",
      "Model:                            OLS   Adj. R-squared:                  0.657\n",
      "Method:                 Least Squares   F-statistic:                     1235.\n",
      "Date:                Tue, 05 May 2020   Prob (F-statistic):          8.23e-152\n",
      "Time:                        16:07:56   Log-Likelihood:                 1262.6\n",
      "No. Observations:                 645   AIC:                            -2521.\n",
      "Df Residuals:                     643   BIC:                            -2512.\n",
      "Df Model:                           1                                         \n",
      "Covariance Type:            nonrobust                                         \n",
      "==============================================================================\n",
      "                 coef    std err          t      P>|t|      [0.025      0.975]\n",
      "------------------------------------------------------------------------------\n",
      "const         -0.0027      0.001     -1.970      0.049      -0.005   -8.38e-06\n",
      "rm_rf          1.0718      0.030     35.146      0.000       1.012       1.132\n",
      "==============================================================================\n",
      "Omnibus:                      220.892   Durbin-Watson:                   1.882\n",
      "Prob(Omnibus):                  0.000   Jarque-Bera (JB):             1564.777\n",
      "Skew:                           1.338   Prob(JB):                         0.00\n",
      "Kurtosis:                      10.146   Cond. No.                         22.6\n",
      "==============================================================================\n",
      "\n",
      "Warnings:\n",
      "[1] Standard Errors assume that the covariance matrix of the errors is correctly specified.\n",
      "                            OLS Regression Results                            \n",
      "==============================================================================\n",
      "Dep. Variable:                    RET   R-squared:                       0.708\n",
      "Model:                            OLS   Adj. R-squared:                  0.708\n",
      "Method:                 Least Squares   F-statistic:                     1563.\n",
      "Date:                Tue, 05 May 2020   Prob (F-statistic):          2.97e-174\n",
      "Time:                        16:07:56   Log-Likelihood:                 1385.8\n",
      "No. Observations:                 645   AIC:                            -2768.\n",
      "Df Residuals:                     643   BIC:                            -2759.\n",
      "Df Model:                           1                                         \n",
      "Covariance Type:            nonrobust                                         \n",
      "==============================================================================\n",
      "                 coef    std err          t      P>|t|      [0.025      0.975]\n",
      "------------------------------------------------------------------------------\n",
      "const          0.0004      0.001      0.314      0.754      -0.002       0.003\n",
      "rm_rf          0.9958      0.025     39.529      0.000       0.946       1.045\n",
      "==============================================================================\n",
      "Omnibus:                      255.533   Durbin-Watson:                   1.915\n",
      "Prob(Omnibus):                  0.000   Jarque-Bera (JB):             2269.384\n",
      "Skew:                           1.516   Prob(JB):                         0.00\n",
      "Kurtosis:                      11.675   Cond. No.                         22.6\n",
      "==============================================================================\n",
      "\n",
      "Warnings:\n",
      "[1] Standard Errors assume that the covariance matrix of the errors is correctly specified.\n",
      "                            OLS Regression Results                            \n",
      "==============================================================================\n",
      "Dep. Variable:                    RET   R-squared:                       0.750\n",
      "Model:                            OLS   Adj. R-squared:                  0.749\n",
      "Method:                 Least Squares   F-statistic:                     1925.\n",
      "Date:                Tue, 05 May 2020   Prob (F-statistic):          1.62e-195\n",
      "Time:                        16:07:56   Log-Likelihood:                 1485.5\n",
      "No. Observations:                 645   AIC:                            -2967.\n",
      "Df Residuals:                     643   BIC:                            -2958.\n",
      "Df Model:                           1                                         \n",
      "Covariance Type:            nonrobust                                         \n",
      "==============================================================================\n",
      "                 coef    std err          t      P>|t|      [0.025      0.975]\n",
      "------------------------------------------------------------------------------\n",
      "const          0.0026      0.001      2.702      0.007       0.001       0.004\n",
      "rm_rf          0.9471      0.022     43.876      0.000       0.905       0.989\n",
      "==============================================================================\n",
      "Omnibus:                      158.515   Durbin-Watson:                   1.803\n",
      "Prob(Omnibus):                  0.000   Jarque-Bera (JB):              948.259\n",
      "Skew:                           0.948   Prob(JB):                    1.22e-206\n",
      "Kurtosis:                       8.629   Cond. No.                         22.6\n",
      "==============================================================================\n",
      "\n",
      "Warnings:\n",
      "[1] Standard Errors assume that the covariance matrix of the errors is correctly specified.\n",
      "                            OLS Regression Results                            \n",
      "==============================================================================\n",
      "Dep. Variable:                    RET   R-squared:                       0.772\n",
      "Model:                            OLS   Adj. R-squared:                  0.772\n",
      "Method:                 Least Squares   F-statistic:                     2183.\n",
      "Date:                Tue, 05 May 2020   Prob (F-statistic):          6.83e-209\n",
      "Time:                        16:07:56   Log-Likelihood:                 1557.0\n",
      "No. Observations:                 645   AIC:                            -3110.\n",
      "Df Residuals:                     643   BIC:                            -3101.\n",
      "Df Model:                           1                                         \n",
      "Covariance Type:            nonrobust                                         \n",
      "==============================================================================\n",
      "                 coef    std err          t      P>|t|      [0.025      0.975]\n",
      "------------------------------------------------------------------------------\n",
      "const          0.0046      0.001      5.381      0.000       0.003       0.006\n",
      "rm_rf          0.9026      0.019     46.724      0.000       0.865       0.941\n",
      "==============================================================================\n",
      "Omnibus:                      136.059   Durbin-Watson:                   1.860\n",
      "Prob(Omnibus):                  0.000   Jarque-Bera (JB):              697.647\n",
      "Skew:                           0.838   Prob(JB):                    3.22e-152\n",
      "Kurtosis:                       7.811   Cond. No.                         22.6\n",
      "==============================================================================\n",
      "\n",
      "Warnings:\n",
      "[1] Standard Errors assume that the covariance matrix of the errors is correctly specified.\n",
      "                            OLS Regression Results                            \n",
      "==============================================================================\n",
      "Dep. Variable:                    RET   R-squared:                       0.783\n",
      "Model:                            OLS   Adj. R-squared:                  0.783\n",
      "Method:                 Least Squares   F-statistic:                     2325.\n",
      "Date:                Tue, 05 May 2020   Prob (F-statistic):          1.03e-215\n",
      "Time:                        16:07:56   Log-Likelihood:                 1578.6\n",
      "No. Observations:                 645   AIC:                            -3153.\n",
      "Df Residuals:                     643   BIC:                            -3144.\n",
      "Df Model:                           1                                         \n",
      "Covariance Type:            nonrobust                                         \n",
      "==============================================================================\n",
      "                 coef    std err          t      P>|t|      [0.025      0.975]\n",
      "------------------------------------------------------------------------------\n",
      "const          0.0073      0.001      8.817      0.000       0.006       0.009\n",
      "rm_rf          0.9008      0.019     48.214      0.000       0.864       0.937\n",
      "==============================================================================\n",
      "Omnibus:                       90.265   Durbin-Watson:                   1.663\n",
      "Prob(Omnibus):                  0.000   Jarque-Bera (JB):              296.335\n",
      "Skew:                           0.645   Prob(JB):                     4.48e-65\n",
      "Kurtosis:                       6.060   Cond. No.                         22.6\n",
      "==============================================================================\n",
      "\n",
      "Warnings:\n",
      "[1] Standard Errors assume that the covariance matrix of the errors is correctly specified.\n",
      "                            OLS Regression Results                            \n",
      "==============================================================================\n",
      "Dep. Variable:                    RET   R-squared:                       0.788\n",
      "Model:                            OLS   Adj. R-squared:                  0.788\n",
      "Method:                 Least Squares   F-statistic:                     2394.\n",
      "Date:                Tue, 05 May 2020   Prob (F-statistic):          6.07e-219\n",
      "Time:                        16:07:56   Log-Likelihood:                 1576.5\n",
      "No. Observations:                 645   AIC:                            -3149.\n",
      "Df Residuals:                     643   BIC:                            -3140.\n",
      "Df Model:                           1                                         \n",
      "Covariance Type:            nonrobust                                         \n",
      "==============================================================================\n",
      "                 coef    std err          t      P>|t|      [0.025      0.975]\n",
      "------------------------------------------------------------------------------\n",
      "const          0.0107      0.001     12.781      0.000       0.009       0.012\n",
      "rm_rf          0.9170      0.019     48.929      0.000       0.880       0.954\n",
      "==============================================================================\n",
      "Omnibus:                       43.286   Durbin-Watson:                   1.684\n",
      "Prob(Omnibus):                  0.000   Jarque-Bera (JB):               89.243\n",
      "Skew:                           0.407   Prob(JB):                     4.18e-20\n",
      "Kurtosis:                       4.630   Cond. No.                         22.6\n",
      "==============================================================================\n",
      "\n",
      "Warnings:\n",
      "[1] Standard Errors assume that the covariance matrix of the errors is correctly specified.\n",
      "                            OLS Regression Results                            \n",
      "==============================================================================\n",
      "Dep. Variable:                    RET   R-squared:                       0.808\n",
      "Model:                            OLS   Adj. R-squared:                  0.808\n",
      "Method:                 Least Squares   F-statistic:                     2706.\n",
      "Date:                Tue, 05 May 2020   Prob (F-statistic):          1.32e-232\n",
      "Time:                        16:07:56   Log-Likelihood:                 1544.9\n",
      "No. Observations:                 645   AIC:                            -3086.\n",
      "Df Residuals:                     643   BIC:                            -3077.\n",
      "Df Model:                           1                                         \n",
      "Covariance Type:            nonrobust                                         \n",
      "==============================================================================\n",
      "                 coef    std err          t      P>|t|      [0.025      0.975]\n",
      "------------------------------------------------------------------------------\n",
      "const          0.0154      0.001     17.583      0.000       0.014       0.017\n",
      "rm_rf          1.0240      0.020     52.020      0.000       0.985       1.063\n",
      "==============================================================================\n",
      "Omnibus:                       74.431   Durbin-Watson:                   1.634\n",
      "Prob(Omnibus):                  0.000   Jarque-Bera (JB):              203.350\n",
      "Skew:                           0.581   Prob(JB):                     6.97e-45\n",
      "Kurtosis:                       5.493   Cond. No.                         22.6\n",
      "==============================================================================\n",
      "\n",
      "Warnings:\n",
      "[1] Standard Errors assume that the covariance matrix of the errors is correctly specified.\n",
      "                            OLS Regression Results                            \n",
      "==============================================================================\n",
      "Dep. Variable:                    RET   R-squared:                       0.740\n",
      "Model:                            OLS   Adj. R-squared:                  0.740\n",
      "Method:                 Least Squares   F-statistic:                     1834.\n",
      "Date:                Tue, 05 May 2020   Prob (F-statistic):          1.70e-190\n",
      "Time:                        16:07:56   Log-Likelihood:                 1303.2\n",
      "No. Observations:                 645   AIC:                            -2602.\n",
      "Df Residuals:                     643   BIC:                            -2593.\n",
      "Df Model:                           1                                         \n",
      "Covariance Type:            nonrobust                                         \n",
      "==============================================================================\n",
      "                 coef    std err          t      P>|t|      [0.025      0.975]\n",
      "------------------------------------------------------------------------------\n",
      "const          0.0255      0.001     19.989      0.000       0.023       0.028\n",
      "rm_rf          1.2264      0.029     42.831      0.000       1.170       1.283\n",
      "==============================================================================\n",
      "Omnibus:                      552.169   Durbin-Watson:                   1.672\n",
      "Prob(Omnibus):                  0.000   Jarque-Bera (JB):            37819.651\n",
      "Skew:                           3.336   Prob(JB):                         0.00\n",
      "Kurtosis:                      39.915   Cond. No.                         22.6\n",
      "==============================================================================\n",
      "\n",
      "Warnings:\n",
      "[1] Standard Errors assume that the covariance matrix of the errors is correctly specified.\n"
     ]
    }
   ],
   "source": [
    "list_coeffs=[]\n",
    "for ele in list_portfolios:\n",
    "    list_coeffs.append(capm(ele))"
   ]
  },
  {
   "cell_type": "code",
   "execution_count": 57,
   "metadata": {},
   "outputs": [],
   "source": [
    "list_coeffs=pd.DataFrame(list_coeffs)"
   ]
  },
  {
   "cell_type": "code",
   "execution_count": 58,
   "metadata": {},
   "outputs": [],
   "source": [
    "list_coeffs.rename(columns={\"const\":\"CAPM alpha\",\"rm_rf\":\"Beta\"},inplace=True)"
   ]
  },
  {
   "cell_type": "code",
   "execution_count": 59,
   "metadata": {},
   "outputs": [],
   "source": [
    "list_coeffs.insert(loc=0, column='Portfolio', value=list_portfolios)"
   ]
  },
  {
   "cell_type": "code",
   "execution_count": 60,
   "metadata": {},
   "outputs": [],
   "source": [
    "list_coeffs.insert(loc=1, column='Portfolio Monthly return', value=portfolio_returns)"
   ]
  },
  {
   "cell_type": "code",
   "execution_count": 61,
   "metadata": {},
   "outputs": [],
   "source": [
    "list_coeffs.insert(loc=2, column='Portfolio Monthly volatility', value=portfolio_stds)"
   ]
  },
  {
   "cell_type": "code",
   "execution_count": 62,
   "metadata": {},
   "outputs": [
    {
     "data": {
      "text/html": [
       "<div>\n",
       "<style scoped>\n",
       "    .dataframe tbody tr th:only-of-type {\n",
       "        vertical-align: middle;\n",
       "    }\n",
       "\n",
       "    .dataframe tbody tr th {\n",
       "        vertical-align: top;\n",
       "    }\n",
       "\n",
       "    .dataframe thead th {\n",
       "        text-align: right;\n",
       "    }\n",
       "</style>\n",
       "<table border=\"1\" class=\"dataframe\">\n",
       "  <thead>\n",
       "    <tr style=\"text-align: right;\">\n",
       "      <th></th>\n",
       "      <th>Portfolio</th>\n",
       "      <th>Portfolio Monthly return</th>\n",
       "      <th>Portfolio Monthly volatility</th>\n",
       "      <th>CAPM alpha</th>\n",
       "      <th>Beta</th>\n",
       "    </tr>\n",
       "  </thead>\n",
       "  <tbody>\n",
       "    <tr>\n",
       "      <th>0</th>\n",
       "      <td>P1</td>\n",
       "      <td>-0.029649</td>\n",
       "      <td>0.016946</td>\n",
       "      <td>-0.024920</td>\n",
       "      <td>1.260916</td>\n",
       "    </tr>\n",
       "    <tr>\n",
       "      <th>1</th>\n",
       "      <td>P2</td>\n",
       "      <td>-0.010809</td>\n",
       "      <td>0.008277</td>\n",
       "      <td>-0.006584</td>\n",
       "      <td>1.157664</td>\n",
       "    </tr>\n",
       "    <tr>\n",
       "      <th>2</th>\n",
       "      <td>P3</td>\n",
       "      <td>-0.003516</td>\n",
       "      <td>0.006662</td>\n",
       "      <td>-0.002673</td>\n",
       "      <td>1.071782</td>\n",
       "    </tr>\n",
       "    <tr>\n",
       "      <th>3</th>\n",
       "      <td>P4</td>\n",
       "      <td>0.001105</td>\n",
       "      <td>0.005718</td>\n",
       "      <td>0.000352</td>\n",
       "      <td>0.995818</td>\n",
       "    </tr>\n",
       "    <tr>\n",
       "      <th>4</th>\n",
       "      <td>P5</td>\n",
       "      <td>0.004538</td>\n",
       "      <td>0.005192</td>\n",
       "      <td>0.002595</td>\n",
       "      <td>0.947055</td>\n",
       "    </tr>\n",
       "    <tr>\n",
       "      <th>5</th>\n",
       "      <td>P6</td>\n",
       "      <td>0.007472</td>\n",
       "      <td>0.005079</td>\n",
       "      <td>0.004626</td>\n",
       "      <td>0.902592</td>\n",
       "    </tr>\n",
       "    <tr>\n",
       "      <th>6</th>\n",
       "      <td>P7</td>\n",
       "      <td>0.010329</td>\n",
       "      <td>0.005225</td>\n",
       "      <td>0.007331</td>\n",
       "      <td>0.900809</td>\n",
       "    </tr>\n",
       "    <tr>\n",
       "      <th>7</th>\n",
       "      <td>P8</td>\n",
       "      <td>0.013493</td>\n",
       "      <td>0.005612</td>\n",
       "      <td>0.010660</td>\n",
       "      <td>0.917009</td>\n",
       "    </tr>\n",
       "    <tr>\n",
       "      <th>8</th>\n",
       "      <td>P9</td>\n",
       "      <td>0.017811</td>\n",
       "      <td>0.006221</td>\n",
       "      <td>0.015402</td>\n",
       "      <td>1.023966</td>\n",
       "    </tr>\n",
       "    <tr>\n",
       "      <th>9</th>\n",
       "      <td>P10</td>\n",
       "      <td>0.028229</td>\n",
       "      <td>0.010186</td>\n",
       "      <td>0.025470</td>\n",
       "      <td>1.226383</td>\n",
       "    </tr>\n",
       "  </tbody>\n",
       "</table>\n",
       "</div>"
      ],
      "text/plain": [
       "  Portfolio  Portfolio Monthly return  Portfolio Monthly volatility  \\\n",
       "0        P1                 -0.029649                      0.016946   \n",
       "1        P2                 -0.010809                      0.008277   \n",
       "2        P3                 -0.003516                      0.006662   \n",
       "3        P4                  0.001105                      0.005718   \n",
       "4        P5                  0.004538                      0.005192   \n",
       "5        P6                  0.007472                      0.005079   \n",
       "6        P7                  0.010329                      0.005225   \n",
       "7        P8                  0.013493                      0.005612   \n",
       "8        P9                  0.017811                      0.006221   \n",
       "9       P10                  0.028229                      0.010186   \n",
       "\n",
       "   CAPM alpha      Beta  \n",
       "0   -0.024920  1.260916  \n",
       "1   -0.006584  1.157664  \n",
       "2   -0.002673  1.071782  \n",
       "3    0.000352  0.995818  \n",
       "4    0.002595  0.947055  \n",
       "5    0.004626  0.902592  \n",
       "6    0.007331  0.900809  \n",
       "7    0.010660  0.917009  \n",
       "8    0.015402  1.023966  \n",
       "9    0.025470  1.226383  "
      ]
     },
     "execution_count": 62,
     "metadata": {},
     "output_type": "execute_result"
    }
   ],
   "source": [
    "list_coeffs"
   ]
  },
  {
   "cell_type": "code",
   "execution_count": 63,
   "metadata": {},
   "outputs": [],
   "source": [
    "list_coeffs_annualized=((1+list_coeffs['Portfolio Monthly return'])**12)-1"
   ]
  },
  {
   "cell_type": "code",
   "execution_count": 64,
   "metadata": {},
   "outputs": [],
   "source": [
    "list_coeffs_annualized=pd.DataFrame(list_coeffs_annualized)"
   ]
  },
  {
   "cell_type": "code",
   "execution_count": 65,
   "metadata": {},
   "outputs": [],
   "source": [
    "list_coeffs_annualized.insert(loc=0, column='Portfolio', value=list_portfolios)"
   ]
  },
  {
   "cell_type": "code",
   "execution_count": 66,
   "metadata": {},
   "outputs": [],
   "source": [
    "list_coeffs_annualized['Portfolio Annual volatility']=list_coeffs['Portfolio Monthly volatility']*np.sqrt(12)"
   ]
  },
  {
   "cell_type": "code",
   "execution_count": 67,
   "metadata": {},
   "outputs": [],
   "source": [
    "list_coeffs_annualized['Annual CAPM alpha']= list_coeffs['CAPM alpha']*12"
   ]
  },
  {
   "cell_type": "code",
   "execution_count": 68,
   "metadata": {},
   "outputs": [],
   "source": [
    "list_coeffs_annualized.rename(columns={\"Portfolio Monthly return\":\"Portfolio Annual Return\"},inplace=True)"
   ]
  },
  {
   "cell_type": "code",
   "execution_count": 69,
   "metadata": {},
   "outputs": [
    {
     "data": {
      "text/html": [
       "<div>\n",
       "<style scoped>\n",
       "    .dataframe tbody tr th:only-of-type {\n",
       "        vertical-align: middle;\n",
       "    }\n",
       "\n",
       "    .dataframe tbody tr th {\n",
       "        vertical-align: top;\n",
       "    }\n",
       "\n",
       "    .dataframe thead th {\n",
       "        text-align: right;\n",
       "    }\n",
       "</style>\n",
       "<table border=\"1\" class=\"dataframe\">\n",
       "  <thead>\n",
       "    <tr style=\"text-align: right;\">\n",
       "      <th></th>\n",
       "      <th>Portfolio</th>\n",
       "      <th>Portfolio Annual Return</th>\n",
       "      <th>Portfolio Annual volatility</th>\n",
       "      <th>Annual CAPM alpha</th>\n",
       "    </tr>\n",
       "  </thead>\n",
       "  <tbody>\n",
       "    <tr>\n",
       "      <th>0</th>\n",
       "      <td>P1</td>\n",
       "      <td>-0.303142</td>\n",
       "      <td>0.058701</td>\n",
       "      <td>-0.299044</td>\n",
       "    </tr>\n",
       "    <tr>\n",
       "      <th>1</th>\n",
       "      <td>P2</td>\n",
       "      <td>-0.122266</td>\n",
       "      <td>0.028672</td>\n",
       "      <td>-0.079006</td>\n",
       "    </tr>\n",
       "    <tr>\n",
       "      <th>2</th>\n",
       "      <td>P3</td>\n",
       "      <td>-0.041386</td>\n",
       "      <td>0.023076</td>\n",
       "      <td>-0.032077</td>\n",
       "    </tr>\n",
       "    <tr>\n",
       "      <th>3</th>\n",
       "      <td>P4</td>\n",
       "      <td>0.013338</td>\n",
       "      <td>0.019809</td>\n",
       "      <td>0.004225</td>\n",
       "    </tr>\n",
       "    <tr>\n",
       "      <th>4</th>\n",
       "      <td>P5</td>\n",
       "      <td>0.055830</td>\n",
       "      <td>0.017986</td>\n",
       "      <td>0.031143</td>\n",
       "    </tr>\n",
       "    <tr>\n",
       "      <th>5</th>\n",
       "      <td>P6</td>\n",
       "      <td>0.093445</td>\n",
       "      <td>0.017593</td>\n",
       "      <td>0.055511</td>\n",
       "    </tr>\n",
       "    <tr>\n",
       "      <th>6</th>\n",
       "      <td>P7</td>\n",
       "      <td>0.131231</td>\n",
       "      <td>0.018101</td>\n",
       "      <td>0.087967</td>\n",
       "    </tr>\n",
       "    <tr>\n",
       "      <th>7</th>\n",
       "      <td>P8</td>\n",
       "      <td>0.174494</td>\n",
       "      <td>0.019441</td>\n",
       "      <td>0.127915</td>\n",
       "    </tr>\n",
       "    <tr>\n",
       "      <th>8</th>\n",
       "      <td>P9</td>\n",
       "      <td>0.235958</td>\n",
       "      <td>0.021551</td>\n",
       "      <td>0.184820</td>\n",
       "    </tr>\n",
       "    <tr>\n",
       "      <th>9</th>\n",
       "      <td>P10</td>\n",
       "      <td>0.396618</td>\n",
       "      <td>0.035285</td>\n",
       "      <td>0.305637</td>\n",
       "    </tr>\n",
       "  </tbody>\n",
       "</table>\n",
       "</div>"
      ],
      "text/plain": [
       "  Portfolio  Portfolio Annual Return  Portfolio Annual volatility  \\\n",
       "0        P1                -0.303142                     0.058701   \n",
       "1        P2                -0.122266                     0.028672   \n",
       "2        P3                -0.041386                     0.023076   \n",
       "3        P4                 0.013338                     0.019809   \n",
       "4        P5                 0.055830                     0.017986   \n",
       "5        P6                 0.093445                     0.017593   \n",
       "6        P7                 0.131231                     0.018101   \n",
       "7        P8                 0.174494                     0.019441   \n",
       "8        P9                 0.235958                     0.021551   \n",
       "9       P10                 0.396618                     0.035285   \n",
       "\n",
       "   Annual CAPM alpha  \n",
       "0          -0.299044  \n",
       "1          -0.079006  \n",
       "2          -0.032077  \n",
       "3           0.004225  \n",
       "4           0.031143  \n",
       "5           0.055511  \n",
       "6           0.087967  \n",
       "7           0.127915  \n",
       "8           0.184820  \n",
       "9           0.305637  "
      ]
     },
     "execution_count": 69,
     "metadata": {},
     "output_type": "execute_result"
    }
   ],
   "source": [
    "list_coeffs_annualized"
   ]
  },
  {
   "cell_type": "markdown",
   "metadata": {},
   "source": [
    "# Step 2"
   ]
  },
  {
   "cell_type": "code",
   "execution_count": 70,
   "metadata": {},
   "outputs": [],
   "source": [
    "d_long_short_portfolio=d['P1'].groupby('time').mean().RET-d['P10'].groupby('time').mean().RET"
   ]
  },
  {
   "cell_type": "code",
   "execution_count": 71,
   "metadata": {},
   "outputs": [],
   "source": [
    "d_long_short_portfolio=pd.DataFrame(d_long_short_portfolio)"
   ]
  },
  {
   "cell_type": "code",
   "execution_count": 72,
   "metadata": {},
   "outputs": [
    {
     "data": {
      "text/html": [
       "<div>\n",
       "<style scoped>\n",
       "    .dataframe tbody tr th:only-of-type {\n",
       "        vertical-align: middle;\n",
       "    }\n",
       "\n",
       "    .dataframe tbody tr th {\n",
       "        vertical-align: top;\n",
       "    }\n",
       "\n",
       "    .dataframe thead th {\n",
       "        text-align: right;\n",
       "    }\n",
       "</style>\n",
       "<table border=\"1\" class=\"dataframe\">\n",
       "  <thead>\n",
       "    <tr style=\"text-align: right;\">\n",
       "      <th></th>\n",
       "      <th>RET</th>\n",
       "    </tr>\n",
       "    <tr>\n",
       "      <th>time</th>\n",
       "      <th></th>\n",
       "    </tr>\n",
       "  </thead>\n",
       "  <tbody>\n",
       "    <tr>\n",
       "      <th>1964-12-31</th>\n",
       "      <td>-0.033721</td>\n",
       "    </tr>\n",
       "    <tr>\n",
       "      <th>1965-01-29</th>\n",
       "      <td>0.009317</td>\n",
       "    </tr>\n",
       "    <tr>\n",
       "      <th>1965-02-26</th>\n",
       "      <td>-0.017378</td>\n",
       "    </tr>\n",
       "    <tr>\n",
       "      <th>1965-03-31</th>\n",
       "      <td>-0.017939</td>\n",
       "    </tr>\n",
       "    <tr>\n",
       "      <th>1965-04-30</th>\n",
       "      <td>-0.048415</td>\n",
       "    </tr>\n",
       "  </tbody>\n",
       "</table>\n",
       "</div>"
      ],
      "text/plain": [
       "                 RET\n",
       "time                \n",
       "1964-12-31 -0.033721\n",
       "1965-01-29  0.009317\n",
       "1965-02-26 -0.017378\n",
       "1965-03-31 -0.017939\n",
       "1965-04-30 -0.048415"
      ]
     },
     "execution_count": 72,
     "metadata": {},
     "output_type": "execute_result"
    }
   ],
   "source": [
    "d_long_short_portfolio.head()"
   ]
  },
  {
   "cell_type": "code",
   "execution_count": 73,
   "metadata": {},
   "outputs": [
    {
     "name": "stdout",
     "output_type": "stream",
     "text": [
      "Long-Short Portfolio average return: -0.05020869235390338\n"
     ]
    }
   ],
   "source": [
    "portfolio_return=np.mean(d_long_short_portfolio['RET'])\n",
    "print(\"Long-Short Portfolio average return:\",portfolio_return)"
   ]
  },
  {
   "cell_type": "code",
   "execution_count": 74,
   "metadata": {},
   "outputs": [],
   "source": [
    "d_long_short_portfolio['rm_rf']=market_df['rm_rf'].values"
   ]
  },
  {
   "cell_type": "code",
   "execution_count": 75,
   "metadata": {},
   "outputs": [],
   "source": [
    "d_long_short_portfolio['rf']=market_df['rf'].values"
   ]
  },
  {
   "cell_type": "code",
   "execution_count": 76,
   "metadata": {},
   "outputs": [],
   "source": [
    "d_long_short_portfolio['RET-rf']=d_long_short_portfolio['RET']-d_long_short_portfolio['rf'].values"
   ]
  },
  {
   "cell_type": "code",
   "execution_count": 77,
   "metadata": {},
   "outputs": [
    {
     "name": "stdout",
     "output_type": "stream",
     "text": [
      "                            OLS Regression Results                            \n",
      "==============================================================================\n",
      "Dep. Variable:                    RET   R-squared:                       0.001\n",
      "Model:                            OLS   Adj. R-squared:                 -0.001\n",
      "Method:                 Least Squares   F-statistic:                    0.3587\n",
      "Date:                Tue, 05 May 2020   Prob (F-statistic):              0.549\n",
      "Time:                        16:07:56   Log-Likelihood:                 851.67\n",
      "No. Observations:                 645   AIC:                            -1699.\n",
      "Df Residuals:                     643   BIC:                            -1690.\n",
      "Df Model:                           1                                         \n",
      "Covariance Type:            nonrobust                                         \n",
      "==============================================================================\n",
      "                 coef    std err          t      P>|t|      [0.025      0.975]\n",
      "------------------------------------------------------------------------------\n",
      "const         -0.0504      0.003    -19.638      0.000      -0.055      -0.045\n",
      "rm_rf          0.0345      0.058      0.599      0.549      -0.079       0.148\n",
      "==============================================================================\n",
      "Omnibus:                      215.294   Durbin-Watson:                   1.906\n",
      "Prob(Omnibus):                  0.000   Jarque-Bera (JB):             2544.169\n",
      "Skew:                           1.132   Prob(JB):                         0.00\n",
      "Kurtosis:                      12.463   Cond. No.                         22.6\n",
      "==============================================================================\n",
      "\n",
      "Warnings:\n",
      "[1] Standard Errors assume that the covariance matrix of the errors is correctly specified.\n"
     ]
    }
   ],
   "source": [
    "Y=d_long_short_portfolio['RET']\n",
    "X=d_long_short_portfolio['rm_rf']\n",
    "X_standard = sm.add_constant(X)\n",
    "model = sm.OLS(Y,X_standard)\n",
    "results = model.fit()\n",
    "print(results.summary())"
   ]
  },
  {
   "cell_type": "code",
   "execution_count": 78,
   "metadata": {},
   "outputs": [
    {
     "name": "stdout",
     "output_type": "stream",
     "text": [
      "Long-Short Portfolio average return: -0.05020869235390338 and alpha is: -0.050390034027993115\n"
     ]
    }
   ],
   "source": [
    "alpha=results.params[0]\n",
    "print(\"Long-Short Portfolio average return:\",portfolio_return, \"and alpha is:\",alpha)"
   ]
  },
  {
   "cell_type": "markdown",
   "metadata": {},
   "source": [
    "# Step 3"
   ]
  },
  {
   "cell_type": "code",
   "execution_count": 79,
   "metadata": {},
   "outputs": [],
   "source": [
    "fama_french=pd.read_csv(\"Portfolios_Formed_on_BE-ME.CSV\")"
   ]
  },
  {
   "cell_type": "code",
   "execution_count": 80,
   "metadata": {},
   "outputs": [],
   "source": [
    "fama_french.rename(columns={\"Unnamed: 0\" : \"time\"},inplace=True)"
   ]
  },
  {
   "cell_type": "code",
   "execution_count": 81,
   "metadata": {},
   "outputs": [],
   "source": [
    "fama_french.set_index('time',inplace=True)"
   ]
  },
  {
   "cell_type": "code",
   "execution_count": 82,
   "metadata": {},
   "outputs": [],
   "source": [
    "fama_french['Value_portf']=(fama_french['Hi 10']-fama_french['Lo 10'])/100"
   ]
  },
  {
   "cell_type": "code",
   "execution_count": 83,
   "metadata": {},
   "outputs": [],
   "source": [
    "fama_french=fama_french.loc['196412':'201808']"
   ]
  },
  {
   "cell_type": "code",
   "execution_count": 84,
   "metadata": {},
   "outputs": [],
   "source": [
    "fama_french['rm_rf']=market_df['rm_rf'].values"
   ]
  },
  {
   "cell_type": "code",
   "execution_count": 85,
   "metadata": {},
   "outputs": [],
   "source": [
    "fama_french['Value_portf']=fama_french['Value_portf']#-fama_french['rm_rf']"
   ]
  },
  {
   "cell_type": "code",
   "execution_count": 86,
   "metadata": {},
   "outputs": [
    {
     "data": {
      "text/html": [
       "<div>\n",
       "<style scoped>\n",
       "    .dataframe tbody tr th:only-of-type {\n",
       "        vertical-align: middle;\n",
       "    }\n",
       "\n",
       "    .dataframe tbody tr th {\n",
       "        vertical-align: top;\n",
       "    }\n",
       "\n",
       "    .dataframe thead th {\n",
       "        text-align: right;\n",
       "    }\n",
       "</style>\n",
       "<table border=\"1\" class=\"dataframe\">\n",
       "  <thead>\n",
       "    <tr style=\"text-align: right;\">\n",
       "      <th></th>\n",
       "      <th>&lt;= 0</th>\n",
       "      <th>Lo 30</th>\n",
       "      <th>Med 40</th>\n",
       "      <th>Hi 30</th>\n",
       "      <th>Lo 20</th>\n",
       "      <th>Qnt 2</th>\n",
       "      <th>Qnt 3</th>\n",
       "      <th>Qnt 4</th>\n",
       "      <th>Hi 20</th>\n",
       "      <th>Lo 10</th>\n",
       "      <th>...</th>\n",
       "      <th>3-Dec</th>\n",
       "      <th>4-Dec</th>\n",
       "      <th>5-Dec</th>\n",
       "      <th>6-Dec</th>\n",
       "      <th>7-Dec</th>\n",
       "      <th>8-Dec</th>\n",
       "      <th>9-Dec</th>\n",
       "      <th>Hi 10</th>\n",
       "      <th>Value_portf</th>\n",
       "      <th>rm_rf</th>\n",
       "    </tr>\n",
       "    <tr>\n",
       "      <th>time</th>\n",
       "      <th></th>\n",
       "      <th></th>\n",
       "      <th></th>\n",
       "      <th></th>\n",
       "      <th></th>\n",
       "      <th></th>\n",
       "      <th></th>\n",
       "      <th></th>\n",
       "      <th></th>\n",
       "      <th></th>\n",
       "      <th></th>\n",
       "      <th></th>\n",
       "      <th></th>\n",
       "      <th></th>\n",
       "      <th></th>\n",
       "      <th></th>\n",
       "      <th></th>\n",
       "      <th></th>\n",
       "      <th></th>\n",
       "      <th></th>\n",
       "      <th></th>\n",
       "    </tr>\n",
       "  </thead>\n",
       "  <tbody>\n",
       "    <tr>\n",
       "      <th>196412</th>\n",
       "      <td>-12.01</td>\n",
       "      <td>1.11</td>\n",
       "      <td>-0.33</td>\n",
       "      <td>-1.93</td>\n",
       "      <td>0.83</td>\n",
       "      <td>1.13</td>\n",
       "      <td>-1.01</td>\n",
       "      <td>-1.32</td>\n",
       "      <td>-1.25</td>\n",
       "      <td>1.42</td>\n",
       "      <td>...</td>\n",
       "      <td>1.89</td>\n",
       "      <td>0.25</td>\n",
       "      <td>0.33</td>\n",
       "      <td>-2.36</td>\n",
       "      <td>-0.15</td>\n",
       "      <td>-2.66</td>\n",
       "      <td>-0.44</td>\n",
       "      <td>-2.49</td>\n",
       "      <td>-0.0391</td>\n",
       "      <td>0.0003</td>\n",
       "    </tr>\n",
       "    <tr>\n",
       "      <th>196501</th>\n",
       "      <td>18.00</td>\n",
       "      <td>4.01</td>\n",
       "      <td>3.05</td>\n",
       "      <td>5.04</td>\n",
       "      <td>4.88</td>\n",
       "      <td>1.76</td>\n",
       "      <td>3.84</td>\n",
       "      <td>4.35</td>\n",
       "      <td>5.39</td>\n",
       "      <td>5.84</td>\n",
       "      <td>...</td>\n",
       "      <td>1.64</td>\n",
       "      <td>1.91</td>\n",
       "      <td>3.17</td>\n",
       "      <td>4.53</td>\n",
       "      <td>4.09</td>\n",
       "      <td>4.66</td>\n",
       "      <td>4.67</td>\n",
       "      <td>6.51</td>\n",
       "      <td>0.0067</td>\n",
       "      <td>0.0354</td>\n",
       "    </tr>\n",
       "    <tr>\n",
       "      <th>196502</th>\n",
       "      <td>13.70</td>\n",
       "      <td>0.65</td>\n",
       "      <td>0.32</td>\n",
       "      <td>1.14</td>\n",
       "      <td>0.36</td>\n",
       "      <td>0.45</td>\n",
       "      <td>1.38</td>\n",
       "      <td>0.83</td>\n",
       "      <td>0.97</td>\n",
       "      <td>0.50</td>\n",
       "      <td>...</td>\n",
       "      <td>1.46</td>\n",
       "      <td>-0.74</td>\n",
       "      <td>1.56</td>\n",
       "      <td>1.20</td>\n",
       "      <td>0.40</td>\n",
       "      <td>1.32</td>\n",
       "      <td>-0.16</td>\n",
       "      <td>2.71</td>\n",
       "      <td>0.0221</td>\n",
       "      <td>0.0044</td>\n",
       "    </tr>\n",
       "    <tr>\n",
       "      <th>196503</th>\n",
       "      <td>-2.44</td>\n",
       "      <td>-1.11</td>\n",
       "      <td>-1.45</td>\n",
       "      <td>0.63</td>\n",
       "      <td>-1.21</td>\n",
       "      <td>-1.46</td>\n",
       "      <td>-1.13</td>\n",
       "      <td>-0.02</td>\n",
       "      <td>0.93</td>\n",
       "      <td>-1.07</td>\n",
       "      <td>...</td>\n",
       "      <td>-0.83</td>\n",
       "      <td>-2.22</td>\n",
       "      <td>-1.35</td>\n",
       "      <td>-0.90</td>\n",
       "      <td>-0.29</td>\n",
       "      <td>0.31</td>\n",
       "      <td>0.49</td>\n",
       "      <td>1.59</td>\n",
       "      <td>0.0266</td>\n",
       "      <td>-0.0134</td>\n",
       "    </tr>\n",
       "    <tr>\n",
       "      <th>196504</th>\n",
       "      <td>15.16</td>\n",
       "      <td>3.79</td>\n",
       "      <td>2.63</td>\n",
       "      <td>3.40</td>\n",
       "      <td>4.38</td>\n",
       "      <td>2.07</td>\n",
       "      <td>2.96</td>\n",
       "      <td>2.85</td>\n",
       "      <td>4.56</td>\n",
       "      <td>5.30</td>\n",
       "      <td>...</td>\n",
       "      <td>2.16</td>\n",
       "      <td>1.96</td>\n",
       "      <td>2.16</td>\n",
       "      <td>3.78</td>\n",
       "      <td>3.48</td>\n",
       "      <td>2.12</td>\n",
       "      <td>6.05</td>\n",
       "      <td>2.35</td>\n",
       "      <td>-0.0295</td>\n",
       "      <td>0.0311</td>\n",
       "    </tr>\n",
       "  </tbody>\n",
       "</table>\n",
       "<p>5 rows × 21 columns</p>\n",
       "</div>"
      ],
      "text/plain": [
       "         <= 0  Lo 30  Med 40  Hi 30  Lo 20  Qnt 2  Qnt 3  Qnt 4  Hi 20  Lo 10  \\\n",
       "time                                                                            \n",
       "196412 -12.01   1.11   -0.33  -1.93   0.83   1.13  -1.01  -1.32  -1.25   1.42   \n",
       "196501  18.00   4.01    3.05   5.04   4.88   1.76   3.84   4.35   5.39   5.84   \n",
       "196502  13.70   0.65    0.32   1.14   0.36   0.45   1.38   0.83   0.97   0.50   \n",
       "196503  -2.44  -1.11   -1.45   0.63  -1.21  -1.46  -1.13  -0.02   0.93  -1.07   \n",
       "196504  15.16   3.79    2.63   3.40   4.38   2.07   2.96   2.85   4.56   5.30   \n",
       "\n",
       "        ...  3-Dec  4-Dec  5-Dec  6-Dec  7-Dec  8-Dec  9-Dec  Hi 10  \\\n",
       "time    ...                                                           \n",
       "196412  ...   1.89   0.25   0.33  -2.36  -0.15  -2.66  -0.44  -2.49   \n",
       "196501  ...   1.64   1.91   3.17   4.53   4.09   4.66   4.67   6.51   \n",
       "196502  ...   1.46  -0.74   1.56   1.20   0.40   1.32  -0.16   2.71   \n",
       "196503  ...  -0.83  -2.22  -1.35  -0.90  -0.29   0.31   0.49   1.59   \n",
       "196504  ...   2.16   1.96   2.16   3.78   3.48   2.12   6.05   2.35   \n",
       "\n",
       "        Value_portf   rm_rf  \n",
       "time                         \n",
       "196412      -0.0391  0.0003  \n",
       "196501       0.0067  0.0354  \n",
       "196502       0.0221  0.0044  \n",
       "196503       0.0266 -0.0134  \n",
       "196504      -0.0295  0.0311  \n",
       "\n",
       "[5 rows x 21 columns]"
      ]
     },
     "execution_count": 86,
     "metadata": {},
     "output_type": "execute_result"
    }
   ],
   "source": [
    "fama_french.head()"
   ]
  },
  {
   "cell_type": "code",
   "execution_count": 87,
   "metadata": {},
   "outputs": [
    {
     "name": "stdout",
     "output_type": "stream",
     "text": [
      "                            OLS Regression Results                            \n",
      "==============================================================================\n",
      "Dep. Variable:                      y   R-squared:                       0.175\n",
      "Model:                            OLS   Adj. R-squared:                  0.174\n",
      "Method:                 Least Squares   F-statistic:                     136.7\n",
      "Date:                Tue, 05 May 2020   Prob (F-statistic):           9.16e-29\n",
      "Time:                        16:07:57   Log-Likelihood:                 1112.8\n",
      "No. Observations:                 645   AIC:                            -2222.\n",
      "Df Residuals:                     643   BIC:                            -2213.\n",
      "Df Model:                           1                                         \n",
      "Covariance Type:            nonrobust                                         \n",
      "==============================================================================\n",
      "                 coef    std err          t      P>|t|      [0.025      0.975]\n",
      "------------------------------------------------------------------------------\n",
      "const          0.0196      0.002      9.096      0.000       0.015       0.024\n",
      "x1             0.3075      0.026     11.691      0.000       0.256       0.359\n",
      "==============================================================================\n",
      "Omnibus:                       50.605   Durbin-Watson:                   1.755\n",
      "Prob(Omnibus):                  0.000   Jarque-Bera (JB):              164.251\n",
      "Skew:                           0.312   Prob(JB):                     2.15e-36\n",
      "Kurtosis:                       5.392   Cond. No.                         15.5\n",
      "==============================================================================\n",
      "\n",
      "Warnings:\n",
      "[1] Standard Errors assume that the covariance matrix of the errors is correctly specified.\n"
     ]
    }
   ],
   "source": [
    "Y=fama_french['Value_portf'].values\n",
    "X=d_long_short_portfolio['RET'].values\n",
    "X_standard = sm.add_constant(X)\n",
    "model = sm.OLS(Y,X_standard)\n",
    "results = model.fit()\n",
    "print(results.summary())"
   ]
  },
  {
   "cell_type": "code",
   "execution_count": 88,
   "metadata": {},
   "outputs": [
    {
     "name": "stdout",
     "output_type": "stream",
     "text": [
      "                            OLS Regression Results                            \n",
      "==============================================================================\n",
      "Dep. Variable:                      y   R-squared:                       0.175\n",
      "Model:                            OLS   Adj. R-squared:                  0.173\n",
      "Method:                 Least Squares   F-statistic:                     68.24\n",
      "Date:                Tue, 05 May 2020   Prob (F-statistic):           1.34e-27\n",
      "Time:                        16:07:57   Log-Likelihood:                 913.65\n",
      "No. Observations:                 645   AIC:                            -1821.\n",
      "Df Residuals:                     642   BIC:                            -1808.\n",
      "Df Model:                           2                                         \n",
      "Covariance Type:            nonrobust                                         \n",
      "===============================================================================\n",
      "                  coef    std err          t      P>|t|      [0.025      0.975]\n",
      "-------------------------------------------------------------------------------\n",
      "const          -0.0525      0.002    -22.454      0.000      -0.057      -0.048\n",
      "Value_portf     0.5705      0.049     11.664      0.000       0.474       0.667\n",
      "rm_rf          -0.0056      0.053     -0.106      0.916      -0.109       0.098\n",
      "==============================================================================\n",
      "Omnibus:                      140.612   Durbin-Watson:                   2.008\n",
      "Prob(Omnibus):                  0.000   Jarque-Bera (JB):             1839.953\n",
      "Skew:                           0.555   Prob(JB):                         0.00\n",
      "Kurtosis:                      11.199   Cond. No.                         22.9\n",
      "==============================================================================\n",
      "\n",
      "Warnings:\n",
      "[1] Standard Errors assume that the covariance matrix of the errors is correctly specified.\n"
     ]
    }
   ],
   "source": [
    "Y=d_long_short_portfolio['RET'].values\n",
    "X=fama_french[[\"Value_portf\",'rm_rf']] \n",
    "X_standard = sm.add_constant(X)\n",
    "model = sm.OLS(Y,X_standard)\n",
    "results = model.fit()\n",
    "print(results.summary())"
   ]
  },
  {
   "cell_type": "code",
   "execution_count": 89,
   "metadata": {},
   "outputs": [
    {
     "data": {
      "text/plain": [
       "array([[1.        , 0.41868795],\n",
       "       [0.41868795, 1.        ]])"
      ]
     },
     "execution_count": 89,
     "metadata": {},
     "output_type": "execute_result"
    }
   ],
   "source": [
    "np.corrcoef(d_long_short_portfolio['RET'].values,fama_french['Value_portf'])"
   ]
  },
  {
   "cell_type": "code",
   "execution_count": null,
   "metadata": {},
   "outputs": [],
   "source": []
  }
 ],
 "metadata": {
  "kernelspec": {
   "display_name": "Python 3",
   "language": "python",
   "name": "python3"
  },
  "language_info": {
   "codemirror_mode": {
    "name": "ipython",
    "version": 3
   },
   "file_extension": ".py",
   "mimetype": "text/x-python",
   "name": "python",
   "nbconvert_exporter": "python",
   "pygments_lexer": "ipython3",
   "version": "3.6.5"
  }
 },
 "nbformat": 4,
 "nbformat_minor": 2
}
